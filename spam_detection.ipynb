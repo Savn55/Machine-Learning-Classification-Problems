{
 "cells": [
  {
   "cell_type": "code",
   "execution_count": 2,
   "metadata": {},
   "outputs": [],
   "source": [
    "import pandas as pd\n",
    "import numpy as np\n",
    "import seaborn as sns\n",
    "import matplotlib.pyplot as plt\n",
    "%matplotlib inline\n",
    "\n",
    "import os"
   ]
  },
  {
   "cell_type": "code",
   "execution_count": 3,
   "metadata": {},
   "outputs": [
    {
     "data": {
      "text/plain": [
       "'C:\\\\Users\\\\sabin\\\\Data_science_projects'"
      ]
     },
     "execution_count": 3,
     "metadata": {},
     "output_type": "execute_result"
    }
   ],
   "source": [
    "os.getcwd()"
   ]
  },
  {
   "cell_type": "code",
   "execution_count": 4,
   "metadata": {},
   "outputs": [],
   "source": [
    "for root, dirs, files in os.walk('C:\\\\Users\\\\sabin\\\\Data_science_projects\\\\hamnspam'):\n",
    "    for name in files:\n",
    "        #print(os.path.join(root, name))\n",
    "        os.path.join(root, name)"
   ]
  },
  {
   "cell_type": "code",
   "execution_count": 5,
   "metadata": {},
   "outputs": [
    {
     "name": "stdout",
     "output_type": "stream",
     "text": [
      "size of spam data: 501\n",
      "size of ham data: 2551\n"
     ]
    }
   ],
   "source": [
    "print(\"size of spam data:\", len(os.listdir('C:\\\\Users\\\\sabin\\\\Data_science_projects\\\\hamnspam\\\\spam')))\n",
    "print(\"size of ham data:\", len(os.listdir('C:\\\\Users\\\\sabin\\\\Data_science_projects\\\\hamnspam\\\\ham')))"
   ]
  },
  {
   "cell_type": "markdown",
   "metadata": {},
   "source": [
    "# Preparing the raw data and converting into DataFrame format."
   ]
  },
  {
   "cell_type": "code",
   "execution_count": 6,
   "metadata": {},
   "outputs": [],
   "source": [
    "path = ('C:\\\\Users\\\\sabin\\\\Data_science_projects\\\\hamnspam\\\\')\n",
    "mails = []\n",
    "labels = []\n",
    "\n",
    "for label in [\"ham\\\\\",\"spam\\\\\"]:\n",
    "    filenames = os.listdir(path+label) #for ham files first\n",
    "    \n",
    "    for file in filenames:\n",
    "        f = open((path + label + file),'r',encoding = 'latin-1')\n",
    "        f_read = f.read()\n",
    "        mails.append(f_read)\n",
    "        labels.append(label)\n",
    "df = pd.DataFrame({'emails': mails, 'labels': labels})\n",
    "    "
   ]
  },
  {
   "cell_type": "code",
   "execution_count": 7,
   "metadata": {},
   "outputs": [
    {
     "data": {
      "text/html": [
       "<div>\n",
       "<style scoped>\n",
       "    .dataframe tbody tr th:only-of-type {\n",
       "        vertical-align: middle;\n",
       "    }\n",
       "\n",
       "    .dataframe tbody tr th {\n",
       "        vertical-align: top;\n",
       "    }\n",
       "\n",
       "    .dataframe thead th {\n",
       "        text-align: right;\n",
       "    }\n",
       "</style>\n",
       "<table border=\"1\" class=\"dataframe\">\n",
       "  <thead>\n",
       "    <tr style=\"text-align: right;\">\n",
       "      <th></th>\n",
       "      <th>emails</th>\n",
       "      <th>labels</th>\n",
       "    </tr>\n",
       "  </thead>\n",
       "  <tbody>\n",
       "    <tr>\n",
       "      <th>count</th>\n",
       "      <td>3052</td>\n",
       "      <td>3052</td>\n",
       "    </tr>\n",
       "    <tr>\n",
       "      <th>unique</th>\n",
       "      <td>3047</td>\n",
       "      <td>2</td>\n",
       "    </tr>\n",
       "    <tr>\n",
       "      <th>top</th>\n",
       "      <td>Received: from qrq.cc.ntu.edu.tw (giga.tw.free...</td>\n",
       "      <td>ham\\</td>\n",
       "    </tr>\n",
       "    <tr>\n",
       "      <th>freq</th>\n",
       "      <td>2</td>\n",
       "      <td>2551</td>\n",
       "    </tr>\n",
       "  </tbody>\n",
       "</table>\n",
       "</div>"
      ],
      "text/plain": [
       "                                                   emails labels\n",
       "count                                                3052   3052\n",
       "unique                                               3047      2\n",
       "top     Received: from qrq.cc.ntu.edu.tw (giga.tw.free...   ham\\\n",
       "freq                                                    2   2551"
      ]
     },
     "execution_count": 7,
     "metadata": {},
     "output_type": "execute_result"
    }
   ],
   "source": [
    "df.describe()"
   ]
  },
  {
   "cell_type": "code",
   "execution_count": 27,
   "metadata": {},
   "outputs": [
    {
     "data": {
      "text/plain": [
       "\"From rssfeeds@jmason.org  Wed Sep 25 10:24:01 2002\\nReturn-Path: <rssfeeds@example.com>\\nDelivered-To: yyyy@localhost.example.com\\nReceived: from localhost (jalapeno [127.0.0.1])\\n\\tby jmason.org (Postfix) with ESMTP id 5081716F16\\n\\tfor <jm@localhost>; Wed, 25 Sep 2002 10:24:01 +0100 (IST)\\nReceived: from jalapeno [127.0.0.1]\\n\\tby localhost with IMAP (fetchmail-5.9.0)\\n\\tfor jm@localhost (single-drop); Wed, 25 Sep 2002 10:24:01 +0100 (IST)\\nReceived: from dogma.slashnull.org (localhost [127.0.0.1]) by\\n    dogma.slashnull.org (8.11.6/8.11.6) with ESMTP id g8P83iC18351 for\\n    <jm@jmason.org>; Wed, 25 Sep 2002 09:03:44 +0100\\nMessage-Id: <200209250803.g8P83iC18351@dogma.slashnull.org>\\nTo: yyyy@example.com\\nFrom: boingboing <rssfeeds@example.com>\\nSubject: Flying cars here, jetpacks next?\\nDate: Wed, 25 Sep 2002 08:03:44 -0000\\nContent-Type: text/plain; encoding=utf-8\\nX-Spam-Status: No, hits=0.0 required=5.0\\n\\ttests=AWL\\n\\tversion=2.50-cvs\\nX-Spam-Level: \\n\\nURL: http://boingboing.net/#85485805\\nDate: Not supplied\\n\\nMoller, a public company in Davis, California, has developed a flying car.  \\n\\n    [IMG: http://www.craphound.com/images/flyingcar.jpg] Moller International \\n    has developed the first and only feasible, personally affordable, personal \\n    vertical takeoff and landing (VTOL) vehicle the world has ever seen. \\n\\n    You've always known it was just a matter of time before the world demanded \\n    some kind of flying machine which would replace the automobile. Of course, \\n    this machine would have to be capable of VTOL, be easy to maintain, cost \\n    effective and reliable. Well, we at Moller International believe we have \\n    come up with the solution. That solution is the volantor named M400 Skycar. \\n     \\n\\nLink[1] Discuss[2] (_Thanks, Mark!_)\\n\\n[1] http://www.moller.com/skycar/\\n[2] http://www.quicktopic.com/boing/H/kpP4y4RMJ63SA\\n\\n\\n\""
      ]
     },
     "execution_count": 27,
     "metadata": {},
     "output_type": "execute_result"
    }
   ],
   "source": [
    "mails[2000]\n"
   ]
  },
  {
   "cell_type": "code",
   "execution_count": 31,
   "metadata": {},
   "outputs": [
    {
     "data": {
      "text/plain": [
       "'ham\\\\'"
      ]
     },
     "execution_count": 31,
     "metadata": {},
     "output_type": "execute_result"
    }
   ],
   "source": [
    "labels[2]"
   ]
  },
  {
   "cell_type": "code",
   "execution_count": 32,
   "metadata": {},
   "outputs": [
    {
     "data": {
      "text/html": [
       "<div>\n",
       "<style scoped>\n",
       "    .dataframe tbody tr th:only-of-type {\n",
       "        vertical-align: middle;\n",
       "    }\n",
       "\n",
       "    .dataframe tbody tr th {\n",
       "        vertical-align: top;\n",
       "    }\n",
       "\n",
       "    .dataframe thead th {\n",
       "        text-align: right;\n",
       "    }\n",
       "</style>\n",
       "<table border=\"1\" class=\"dataframe\">\n",
       "  <thead>\n",
       "    <tr style=\"text-align: right;\">\n",
       "      <th></th>\n",
       "      <th>emails</th>\n",
       "      <th>labels</th>\n",
       "    </tr>\n",
       "  </thead>\n",
       "  <tbody>\n",
       "    <tr>\n",
       "      <th>0</th>\n",
       "      <td>From exmh-workers-admin@redhat.com  Thu Aug 22...</td>\n",
       "      <td>ham\\</td>\n",
       "    </tr>\n",
       "    <tr>\n",
       "      <th>1</th>\n",
       "      <td>From Steve_Burt@cursor-system.com  Thu Aug 22 ...</td>\n",
       "      <td>ham\\</td>\n",
       "    </tr>\n",
       "    <tr>\n",
       "      <th>2</th>\n",
       "      <td>From timc@2ubh.com  Thu Aug 22 13:52:59 2002\\n...</td>\n",
       "      <td>ham\\</td>\n",
       "    </tr>\n",
       "    <tr>\n",
       "      <th>3</th>\n",
       "      <td>From irregulars-admin@tb.tf  Thu Aug 22 14:23:...</td>\n",
       "      <td>ham\\</td>\n",
       "    </tr>\n",
       "    <tr>\n",
       "      <th>4</th>\n",
       "      <td>From exmh-users-admin@redhat.com  Thu Aug 22 1...</td>\n",
       "      <td>ham\\</td>\n",
       "    </tr>\n",
       "    <tr>\n",
       "      <th>...</th>\n",
       "      <td>...</td>\n",
       "      <td>...</td>\n",
       "    </tr>\n",
       "    <tr>\n",
       "      <th>3047</th>\n",
       "      <td>From biz2biz2446@Flashmail.com  Mon Oct  7 22:...</td>\n",
       "      <td>spam\\</td>\n",
       "    </tr>\n",
       "    <tr>\n",
       "      <th>3048</th>\n",
       "      <td>From cna@insiq.us  Tue Oct  8 00:10:39 2002\\nR...</td>\n",
       "      <td>spam\\</td>\n",
       "    </tr>\n",
       "    <tr>\n",
       "      <th>3049</th>\n",
       "      <td>From bounce2@u-answer.com  Tue Oct  8 11:02:30...</td>\n",
       "      <td>spam\\</td>\n",
       "    </tr>\n",
       "    <tr>\n",
       "      <th>3050</th>\n",
       "      <td>From beautyinfufuxxxmeb13mxy@aol.com  Tue Oct ...</td>\n",
       "      <td>spam\\</td>\n",
       "    </tr>\n",
       "    <tr>\n",
       "      <th>3051</th>\n",
       "      <td>From evtwqmigru@datcon.co.uk  Tue Oct  8 11:02...</td>\n",
       "      <td>spam\\</td>\n",
       "    </tr>\n",
       "  </tbody>\n",
       "</table>\n",
       "<p>3052 rows × 2 columns</p>\n",
       "</div>"
      ],
      "text/plain": [
       "                                                 emails labels\n",
       "0     From exmh-workers-admin@redhat.com  Thu Aug 22...   ham\\\n",
       "1     From Steve_Burt@cursor-system.com  Thu Aug 22 ...   ham\\\n",
       "2     From timc@2ubh.com  Thu Aug 22 13:52:59 2002\\n...   ham\\\n",
       "3     From irregulars-admin@tb.tf  Thu Aug 22 14:23:...   ham\\\n",
       "4     From exmh-users-admin@redhat.com  Thu Aug 22 1...   ham\\\n",
       "...                                                 ...    ...\n",
       "3047  From biz2biz2446@Flashmail.com  Mon Oct  7 22:...  spam\\\n",
       "3048  From cna@insiq.us  Tue Oct  8 00:10:39 2002\\nR...  spam\\\n",
       "3049  From bounce2@u-answer.com  Tue Oct  8 11:02:30...  spam\\\n",
       "3050  From beautyinfufuxxxmeb13mxy@aol.com  Tue Oct ...  spam\\\n",
       "3051  From evtwqmigru@datcon.co.uk  Tue Oct  8 11:02...  spam\\\n",
       "\n",
       "[3052 rows x 2 columns]"
      ]
     },
     "execution_count": 32,
     "metadata": {},
     "output_type": "execute_result"
    }
   ],
   "source": [
    "df"
   ]
  },
  {
   "cell_type": "markdown",
   "metadata": {},
   "source": [
    "## converting ham/ and spam/ to 0 and 1."
   ]
  },
  {
   "cell_type": "code",
   "execution_count": 8,
   "metadata": {},
   "outputs": [],
   "source": [
    "#simple way is by mapping\n",
    "df['labels'] = df['labels'].map({'ham\\\\': 0, 'spam\\\\':1})\n",
    "\n",
    "## can also use \n",
    "\n",
    "#from sklearn.preprocessing import LabelEncoder\n",
    "#encoder = LabelEncoder()\n",
    "#df['labels'] = encoder.fit_transform(df['labels'])\n",
    "\n",
    "## this will encode labels with some number and useful to encode for \n",
    "## multiple labeling instead of mapping manually"
   ]
  },
  {
   "cell_type": "code",
   "execution_count": 7,
   "metadata": {},
   "outputs": [
    {
     "data": {
      "text/html": [
       "<div>\n",
       "<style scoped>\n",
       "    .dataframe tbody tr th:only-of-type {\n",
       "        vertical-align: middle;\n",
       "    }\n",
       "\n",
       "    .dataframe tbody tr th {\n",
       "        vertical-align: top;\n",
       "    }\n",
       "\n",
       "    .dataframe thead th {\n",
       "        text-align: right;\n",
       "    }\n",
       "</style>\n",
       "<table border=\"1\" class=\"dataframe\">\n",
       "  <thead>\n",
       "    <tr style=\"text-align: right;\">\n",
       "      <th></th>\n",
       "      <th>emails</th>\n",
       "      <th>labels</th>\n",
       "    </tr>\n",
       "  </thead>\n",
       "  <tbody>\n",
       "    <tr>\n",
       "      <th>0</th>\n",
       "      <td>From exmh-workers-admin@redhat.com  Thu Aug 22...</td>\n",
       "      <td>0</td>\n",
       "    </tr>\n",
       "    <tr>\n",
       "      <th>1</th>\n",
       "      <td>From Steve_Burt@cursor-system.com  Thu Aug 22 ...</td>\n",
       "      <td>0</td>\n",
       "    </tr>\n",
       "    <tr>\n",
       "      <th>2</th>\n",
       "      <td>From timc@2ubh.com  Thu Aug 22 13:52:59 2002\\n...</td>\n",
       "      <td>0</td>\n",
       "    </tr>\n",
       "    <tr>\n",
       "      <th>3</th>\n",
       "      <td>From irregulars-admin@tb.tf  Thu Aug 22 14:23:...</td>\n",
       "      <td>0</td>\n",
       "    </tr>\n",
       "    <tr>\n",
       "      <th>4</th>\n",
       "      <td>From exmh-users-admin@redhat.com  Thu Aug 22 1...</td>\n",
       "      <td>0</td>\n",
       "    </tr>\n",
       "  </tbody>\n",
       "</table>\n",
       "</div>"
      ],
      "text/plain": [
       "                                              emails  labels\n",
       "0  From exmh-workers-admin@redhat.com  Thu Aug 22...       0\n",
       "1  From Steve_Burt@cursor-system.com  Thu Aug 22 ...       0\n",
       "2  From timc@2ubh.com  Thu Aug 22 13:52:59 2002\\n...       0\n",
       "3  From irregulars-admin@tb.tf  Thu Aug 22 14:23:...       0\n",
       "4  From exmh-users-admin@redhat.com  Thu Aug 22 1...       0"
      ]
     },
     "execution_count": 7,
     "metadata": {},
     "output_type": "execute_result"
    }
   ],
   "source": [
    "df.head()"
   ]
  },
  {
   "cell_type": "code",
   "execution_count": 35,
   "metadata": {},
   "outputs": [
    {
     "data": {
      "text/plain": [
       "1"
      ]
     },
     "execution_count": 35,
     "metadata": {},
     "output_type": "execute_result"
    }
   ],
   "source": [
    "df['labels'][3051] "
   ]
  },
  {
   "cell_type": "markdown",
   "metadata": {},
   "source": [
    "### check for null values"
   ]
  },
  {
   "cell_type": "code",
   "execution_count": 8,
   "metadata": {},
   "outputs": [
    {
     "data": {
      "text/plain": [
       "emails    0\n",
       "labels    0\n",
       "dtype: int64"
      ]
     },
     "execution_count": 8,
     "metadata": {},
     "output_type": "execute_result"
    }
   ],
   "source": [
    "df.isna().sum() # no null values, is good to work"
   ]
  },
  {
   "cell_type": "code",
   "execution_count": 9,
   "metadata": {},
   "outputs": [
    {
     "data": {
      "text/plain": [
       "<matplotlib.axes._subplots.AxesSubplot at 0x195f8113048>"
      ]
     },
     "execution_count": 9,
     "metadata": {},
     "output_type": "execute_result"
    },
    {
     "data": {
      "image/png": "[encoded data removed]",
      "text/plain": [
       "<Figure size 432x288 with 2 Axes>"
      ]
     },
     "metadata": {
      "needs_background": "light"
     },
     "output_type": "display_data"
    }
   ],
   "source": [
    "#visualization using seaborn heatmap\n",
    "sns.heatmap(df.isna(),yticklabels=False,cmap='viridis')\n",
    "#blank means no NaN values"
   ]
  },
  {
   "cell_type": "markdown",
   "metadata": {},
   "source": [
    "### converting the emails msg into lower case"
   ]
  },
  {
   "cell_type": "code",
   "execution_count": 9,
   "metadata": {},
   "outputs": [],
   "source": [
    "df['emails'] = df['emails'].apply(lambda x:x.lower())\n",
    "## passing emails as parameter to return lower case texts"
   ]
  },
  {
   "cell_type": "code",
   "execution_count": 11,
   "metadata": {},
   "outputs": [
    {
     "data": {
      "text/html": [
       "<div>\n",
       "<style scoped>\n",
       "    .dataframe tbody tr th:only-of-type {\n",
       "        vertical-align: middle;\n",
       "    }\n",
       "\n",
       "    .dataframe tbody tr th {\n",
       "        vertical-align: top;\n",
       "    }\n",
       "\n",
       "    .dataframe thead th {\n",
       "        text-align: right;\n",
       "    }\n",
       "</style>\n",
       "<table border=\"1\" class=\"dataframe\">\n",
       "  <thead>\n",
       "    <tr style=\"text-align: right;\">\n",
       "      <th></th>\n",
       "      <th>emails</th>\n",
       "      <th>labels</th>\n",
       "    </tr>\n",
       "  </thead>\n",
       "  <tbody>\n",
       "    <tr>\n",
       "      <th>0</th>\n",
       "      <td>from exmh-workers-admin@redhat.com  thu aug 22...</td>\n",
       "      <td>0</td>\n",
       "    </tr>\n",
       "    <tr>\n",
       "      <th>1</th>\n",
       "      <td>from steve_burt@cursor-system.com  thu aug 22 ...</td>\n",
       "      <td>0</td>\n",
       "    </tr>\n",
       "    <tr>\n",
       "      <th>2</th>\n",
       "      <td>from timc@2ubh.com  thu aug 22 13:52:59 2002\\n...</td>\n",
       "      <td>0</td>\n",
       "    </tr>\n",
       "    <tr>\n",
       "      <th>3</th>\n",
       "      <td>from irregulars-admin@tb.tf  thu aug 22 14:23:...</td>\n",
       "      <td>0</td>\n",
       "    </tr>\n",
       "    <tr>\n",
       "      <th>4</th>\n",
       "      <td>from exmh-users-admin@redhat.com  thu aug 22 1...</td>\n",
       "      <td>0</td>\n",
       "    </tr>\n",
       "    <tr>\n",
       "      <th>...</th>\n",
       "      <td>...</td>\n",
       "      <td>...</td>\n",
       "    </tr>\n",
       "    <tr>\n",
       "      <th>3047</th>\n",
       "      <td>from biz2biz2446@flashmail.com  mon oct  7 22:...</td>\n",
       "      <td>1</td>\n",
       "    </tr>\n",
       "    <tr>\n",
       "      <th>3048</th>\n",
       "      <td>from cna@insiq.us  tue oct  8 00:10:39 2002\\nr...</td>\n",
       "      <td>1</td>\n",
       "    </tr>\n",
       "    <tr>\n",
       "      <th>3049</th>\n",
       "      <td>from bounce2@u-answer.com  tue oct  8 11:02:30...</td>\n",
       "      <td>1</td>\n",
       "    </tr>\n",
       "    <tr>\n",
       "      <th>3050</th>\n",
       "      <td>from beautyinfufuxxxmeb13mxy@aol.com  tue oct ...</td>\n",
       "      <td>1</td>\n",
       "    </tr>\n",
       "    <tr>\n",
       "      <th>3051</th>\n",
       "      <td>from evtwqmigru@datcon.co.uk  tue oct  8 11:02...</td>\n",
       "      <td>1</td>\n",
       "    </tr>\n",
       "  </tbody>\n",
       "</table>\n",
       "<p>3052 rows × 2 columns</p>\n",
       "</div>"
      ],
      "text/plain": [
       "                                                 emails  labels\n",
       "0     from exmh-workers-admin@redhat.com  thu aug 22...       0\n",
       "1     from steve_burt@cursor-system.com  thu aug 22 ...       0\n",
       "2     from timc@2ubh.com  thu aug 22 13:52:59 2002\\n...       0\n",
       "3     from irregulars-admin@tb.tf  thu aug 22 14:23:...       0\n",
       "4     from exmh-users-admin@redhat.com  thu aug 22 1...       0\n",
       "...                                                 ...     ...\n",
       "3047  from biz2biz2446@flashmail.com  mon oct  7 22:...       1\n",
       "3048  from cna@insiq.us  tue oct  8 00:10:39 2002\\nr...       1\n",
       "3049  from bounce2@u-answer.com  tue oct  8 11:02:30...       1\n",
       "3050  from beautyinfufuxxxmeb13mxy@aol.com  tue oct ...       1\n",
       "3051  from evtwqmigru@datcon.co.uk  tue oct  8 11:02...       1\n",
       "\n",
       "[3052 rows x 2 columns]"
      ]
     },
     "execution_count": 11,
     "metadata": {},
     "output_type": "execute_result"
    }
   ],
   "source": [
    "df"
   ]
  },
  {
   "cell_type": "code",
   "execution_count": 10,
   "metadata": {},
   "outputs": [],
   "source": [
    "## Replacing '\\n' and '\\t' with '' for data cleaning \n",
    "df['emails'] = df['emails'].apply(lambda x: x.replace('\\n',''))\n",
    "df['emails'] = df['emails'].apply(lambda x: x.replace('\\t',''))"
   ]
  },
  {
   "cell_type": "code",
   "execution_count": 13,
   "metadata": {},
   "outputs": [
    {
     "data": {
      "text/html": [
       "<div>\n",
       "<style scoped>\n",
       "    .dataframe tbody tr th:only-of-type {\n",
       "        vertical-align: middle;\n",
       "    }\n",
       "\n",
       "    .dataframe tbody tr th {\n",
       "        vertical-align: top;\n",
       "    }\n",
       "\n",
       "    .dataframe thead th {\n",
       "        text-align: right;\n",
       "    }\n",
       "</style>\n",
       "<table border=\"1\" class=\"dataframe\">\n",
       "  <thead>\n",
       "    <tr style=\"text-align: right;\">\n",
       "      <th></th>\n",
       "      <th>emails</th>\n",
       "      <th>labels</th>\n",
       "    </tr>\n",
       "  </thead>\n",
       "  <tbody>\n",
       "    <tr>\n",
       "      <th>0</th>\n",
       "      <td>from exmh-workers-admin@redhat.com  thu aug 22...</td>\n",
       "      <td>0</td>\n",
       "    </tr>\n",
       "    <tr>\n",
       "      <th>1</th>\n",
       "      <td>from steve_burt@cursor-system.com  thu aug 22 ...</td>\n",
       "      <td>0</td>\n",
       "    </tr>\n",
       "    <tr>\n",
       "      <th>2</th>\n",
       "      <td>from timc@2ubh.com  thu aug 22 13:52:59 2002re...</td>\n",
       "      <td>0</td>\n",
       "    </tr>\n",
       "    <tr>\n",
       "      <th>3</th>\n",
       "      <td>from irregulars-admin@tb.tf  thu aug 22 14:23:...</td>\n",
       "      <td>0</td>\n",
       "    </tr>\n",
       "    <tr>\n",
       "      <th>4</th>\n",
       "      <td>from exmh-users-admin@redhat.com  thu aug 22 1...</td>\n",
       "      <td>0</td>\n",
       "    </tr>\n",
       "    <tr>\n",
       "      <th>...</th>\n",
       "      <td>...</td>\n",
       "      <td>...</td>\n",
       "    </tr>\n",
       "    <tr>\n",
       "      <th>3047</th>\n",
       "      <td>from biz2biz2446@flashmail.com  mon oct  7 22:...</td>\n",
       "      <td>1</td>\n",
       "    </tr>\n",
       "    <tr>\n",
       "      <th>3048</th>\n",
       "      <td>from cna@insiq.us  tue oct  8 00:10:39 2002ret...</td>\n",
       "      <td>1</td>\n",
       "    </tr>\n",
       "    <tr>\n",
       "      <th>3049</th>\n",
       "      <td>from bounce2@u-answer.com  tue oct  8 11:02:30...</td>\n",
       "      <td>1</td>\n",
       "    </tr>\n",
       "    <tr>\n",
       "      <th>3050</th>\n",
       "      <td>from beautyinfufuxxxmeb13mxy@aol.com  tue oct ...</td>\n",
       "      <td>1</td>\n",
       "    </tr>\n",
       "    <tr>\n",
       "      <th>3051</th>\n",
       "      <td>from evtwqmigru@datcon.co.uk  tue oct  8 11:02...</td>\n",
       "      <td>1</td>\n",
       "    </tr>\n",
       "  </tbody>\n",
       "</table>\n",
       "<p>3052 rows × 2 columns</p>\n",
       "</div>"
      ],
      "text/plain": [
       "                                                 emails  labels\n",
       "0     from exmh-workers-admin@redhat.com  thu aug 22...       0\n",
       "1     from steve_burt@cursor-system.com  thu aug 22 ...       0\n",
       "2     from timc@2ubh.com  thu aug 22 13:52:59 2002re...       0\n",
       "3     from irregulars-admin@tb.tf  thu aug 22 14:23:...       0\n",
       "4     from exmh-users-admin@redhat.com  thu aug 22 1...       0\n",
       "...                                                 ...     ...\n",
       "3047  from biz2biz2446@flashmail.com  mon oct  7 22:...       1\n",
       "3048  from cna@insiq.us  tue oct  8 00:10:39 2002ret...       1\n",
       "3049  from bounce2@u-answer.com  tue oct  8 11:02:30...       1\n",
       "3050  from beautyinfufuxxxmeb13mxy@aol.com  tue oct ...       1\n",
       "3051  from evtwqmigru@datcon.co.uk  tue oct  8 11:02...       1\n",
       "\n",
       "[3052 rows x 2 columns]"
      ]
     },
     "execution_count": 13,
     "metadata": {},
     "output_type": "execute_result"
    }
   ],
   "source": [
    "df"
   ]
  },
  {
   "cell_type": "markdown",
   "metadata": {},
   "source": [
    "##  Natural Language ToolKit"
   ]
  },
  {
   "cell_type": "code",
   "execution_count": 11,
   "metadata": {},
   "outputs": [],
   "source": [
    "import nltk\n",
    "import re #regular expression\n",
    "from nltk.stem import PorterStemmer\n",
    "from nltk.corpus import stopwords"
   ]
  },
  {
   "cell_type": "code",
   "execution_count": 12,
   "metadata": {},
   "outputs": [],
   "source": [
    "ps = PorterStemmer()"
   ]
  },
  {
   "cell_type": "code",
   "execution_count": 13,
   "metadata": {},
   "outputs": [],
   "source": [
    "corpus=[] #processed data is stored here"
   ]
  },
  {
   "cell_type": "markdown",
   "metadata": {},
   "source": [
    "* Removing special chars & numbers\n",
    "* stemming "
   ]
  },
  {
   "cell_type": "code",
   "execution_count": 14,
   "metadata": {},
   "outputs": [],
   "source": [
    "# running this takes quite a long time\n",
    "# depending on the machine resources\n",
    "for index in range(len(df)):\n",
    "    review_mail = re.sub('[^a-zA-Z]',' ', df['emails'][index]) # returns string\n",
    "    mail_list = review_mail.split() # returns a list\n",
    "    stem_mail = [ps.stem(word) for word in mail_list if word not in stopwords.words('english')]\n",
    "    new_mail = ' '.join(mail_list)\n",
    "    corpus.append(new_mail)"
   ]
  },
  {
   "cell_type": "markdown",
   "metadata": {},
   "source": [
    " ### Bagging word using CountVectorization\n",
    " can try using TF-IDF which gives better result"
   ]
  },
  {
   "cell_type": "code",
   "execution_count": 15,
   "metadata": {},
   "outputs": [],
   "source": [
    "# tokenizing each words using countvectorizer\n",
    "from sklearn.feature_extraction.text import CountVectorizer\n",
    "cv = CountVectorizer(max_features = 2500)\n",
    "X = cv.fit_transform(corpus).toarray() #transforming to array\n",
    "y = df['labels']\n"
   ]
  },
  {
   "cell_type": "markdown",
   "metadata": {},
   "source": [
    "## Splitting the Data"
   ]
  },
  {
   "cell_type": "code",
   "execution_count": 16,
   "metadata": {},
   "outputs": [],
   "source": [
    "from sklearn.model_selection import train_test_split"
   ]
  },
  {
   "cell_type": "code",
   "execution_count": 17,
   "metadata": {},
   "outputs": [],
   "source": [
    "X_train,X_test,y_train,y_test = train_test_split(X,y,test_size = 0.2, random_state = 42)"
   ]
  },
  {
   "cell_type": "code",
   "execution_count": 18,
   "metadata": {},
   "outputs": [],
   "source": [
    "from sklearn.naive_bayes import MultinomialNB # better in word counting than GNB\n",
    "model = MultinomialNB()"
   ]
  },
  {
   "cell_type": "code",
   "execution_count": 19,
   "metadata": {},
   "outputs": [
    {
     "data": {
      "text/plain": [
       "(2441, 2500)"
      ]
     },
     "execution_count": 19,
     "metadata": {},
     "output_type": "execute_result"
    }
   ],
   "source": [
    "X_train.shape"
   ]
  },
  {
   "cell_type": "code",
   "execution_count": 20,
   "metadata": {},
   "outputs": [
    {
     "data": {
      "text/plain": [
       "(2441,)"
      ]
     },
     "execution_count": 20,
     "metadata": {},
     "output_type": "execute_result"
    }
   ],
   "source": [
    "y_train.shape"
   ]
  },
  {
   "cell_type": "code",
   "execution_count": 21,
   "metadata": {},
   "outputs": [
    {
     "data": {
      "text/plain": [
       "MultinomialNB(alpha=1.0, class_prior=None, fit_prior=True)"
      ]
     },
     "execution_count": 21,
     "metadata": {},
     "output_type": "execute_result"
    }
   ],
   "source": [
    "model.fit(X_train,y_train)"
   ]
  },
  {
   "cell_type": "code",
   "execution_count": 22,
   "metadata": {},
   "outputs": [],
   "source": [
    "y_pred = model.predict(X_test)"
   ]
  },
  {
   "cell_type": "markdown",
   "metadata": {},
   "source": [
    "## Checking Accuracy"
   ]
  },
  {
   "cell_type": "code",
   "execution_count": 23,
   "metadata": {},
   "outputs": [],
   "source": [
    "from sklearn.metrics import accuracy_score"
   ]
  },
  {
   "cell_type": "code",
   "execution_count": 24,
   "metadata": {},
   "outputs": [],
   "source": [
    "accuracy = accuracy_score(y_test, y_pred)"
   ]
  },
  {
   "cell_type": "code",
   "execution_count": 25,
   "metadata": {},
   "outputs": [
    {
     "data": {
      "text/plain": [
       "0.983633387888707"
      ]
     },
     "execution_count": 25,
     "metadata": {},
     "output_type": "execute_result"
    }
   ],
   "source": [
    "accuracy"
   ]
  },
  {
   "cell_type": "markdown",
   "metadata": {},
   "source": [
    "### checking confusion matrix"
   ]
  },
  {
   "cell_type": "code",
   "execution_count": 26,
   "metadata": {},
   "outputs": [],
   "source": [
    "from sklearn.metrics import confusion_matrix"
   ]
  },
  {
   "cell_type": "code",
   "execution_count": 27,
   "metadata": {},
   "outputs": [],
   "source": [
    "cm = confusion_matrix(y_test, y_pred)"
   ]
  },
  {
   "cell_type": "code",
   "execution_count": 28,
   "metadata": {},
   "outputs": [
    {
     "data": {
      "text/plain": [
       "array([[516,   3],\n",
       "       [  7,  85]], dtype=int64)"
      ]
     },
     "execution_count": 28,
     "metadata": {},
     "output_type": "execute_result"
    }
   ],
   "source": [
    "cm"
   ]
  },
  {
   "cell_type": "code",
   "execution_count": 29,
   "metadata": {},
   "outputs": [],
   "source": [
    "data = pd.DataFrame(cm)"
   ]
  },
  {
   "cell_type": "code",
   "execution_count": 31,
   "metadata": {},
   "outputs": [
    {
     "data": {
      "text/plain": [
       "<matplotlib.axes._subplots.AxesSubplot at 0x2b9c47b3748>"
      ]
     },
     "execution_count": 31,
     "metadata": {},
     "output_type": "execute_result"
    },
    {
     "data": {
      "image/png": "[encoded data removed]",
      "text/plain": [
       "<Figure size 432x288 with 2 Axes>"
      ]
     },
     "metadata": {
      "needs_background": "light"
     },
     "output_type": "display_data"
    }
   ],
   "source": [
    "sns.heatmap(data,annot=True)"
   ]
  },
  {
   "cell_type": "markdown",
   "metadata": {},
   "source": [
    "### Therefore, confusion matrix shows the prediction is good.\n",
    "* 3 times falsely predicted as ham\n",
    "* 7 times falsely predicted as spam"
   ]
  },
  {
   "cell_type": "code",
   "execution_count": null,
   "metadata": {},
   "outputs": [],
   "source": []
  }
 ],
 "metadata": {
  "kernelspec": {
   "display_name": "Python 3",
   "language": "python",
   "name": "python3"
  },
  "language_info": {
   "codemirror_mode": {
    "name": "ipython",
    "version": 3
   },
   "file_extension": ".py",
   "mimetype": "text/x-python",
   "name": "python",
   "nbconvert_exporter": "python",
   "pygments_lexer": "ipython3",
   "version": "3.7.6"
  }
 },
 "nbformat": 4,
 "nbformat_minor": 4
}
